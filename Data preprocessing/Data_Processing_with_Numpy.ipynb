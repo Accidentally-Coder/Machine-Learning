{
  "nbformat": 4,
  "nbformat_minor": 0,
  "metadata": {
    "colab": {
      "provenance": []
    },
    "kernelspec": {
      "name": "python3",
      "display_name": "Python 3"
    },
    "language_info": {
      "name": "python"
    }
  },
  "cells": [
    {
      "cell_type": "markdown",
      "source": [
        "In local PC setup, like in Anaconda, install Numpy using :"
      ],
      "metadata": {
        "id": "aynDfgzTSH_K"
      }
    },
    {
      "cell_type": "markdown",
      "source": [
        "or"
      ],
      "metadata": {
        "id": "3D7IEkOtSUJG"
      }
    },
    {
      "cell_type": "code",
      "source": [
        "pip install numpy"
      ],
      "metadata": {
        "colab": {
          "base_uri": "https://localhost:8080/"
        },
        "id": "39RoFe9RSUsd",
        "outputId": "e0d8b081-c4f3-4b08-97f7-6585fc66c885"
      },
      "execution_count": 2,
      "outputs": [
        {
          "output_type": "stream",
          "name": "stdout",
          "text": [
            "Requirement already satisfied: numpy in /usr/local/lib/python3.10/dist-packages (1.25.2)\n"
          ]
        }
      ]
    },
    {
      "cell_type": "markdown",
      "source": [
        "[Documentation](https://numpy.org/doc/)\n",
        "\n",
        "[w3school](https://www.w3schools.com/python/numpy/default.asp)"
      ],
      "metadata": {
        "id": "j-znstunTDr5"
      }
    },
    {
      "cell_type": "code",
      "source": [
        "import numpy as np"
      ],
      "metadata": {
        "id": "OgIGfSGYUtHp"
      },
      "execution_count": 2,
      "outputs": []
    },
    {
      "cell_type": "markdown",
      "source": [
        "#Numpy Arrays\n",
        "\n",
        "Numpy arrays : vectors(1D arrays) and matrices(2D arrays)."
      ],
      "metadata": {
        "id": "hpURM00oTO5W"
      }
    },
    {
      "cell_type": "markdown",
      "source": [
        "Converting a list to numpy array"
      ],
      "metadata": {
        "id": "hWdzk7TUU7SE"
      }
    },
    {
      "cell_type": "code",
      "source": [
        "my_list = [1,2,3]\n",
        "arr = np.array(my_list)\n",
        "arr"
      ],
      "metadata": {
        "colab": {
          "base_uri": "https://localhost:8080/"
        },
        "id": "La9ZtqfrUxIc",
        "outputId": "e36c5578-0339-4d47-f719-091eb867960a"
      },
      "execution_count": 4,
      "outputs": [
        {
          "output_type": "execute_result",
          "data": {
            "text/plain": [
              "array([1, 2, 3])"
            ]
          },
          "metadata": {},
          "execution_count": 4
        }
      ]
    },
    {
      "cell_type": "markdown",
      "source": [
        "Converting list of lists to matrix"
      ],
      "metadata": {
        "id": "CRvrsrtSVHs0"
      }
    },
    {
      "cell_type": "code",
      "source": [
        "my_list = [[1,2,3],[4,5,6],[7,8,9]]\n",
        "mat = np.array(my_list)\n",
        "mat"
      ],
      "metadata": {
        "colab": {
          "base_uri": "https://localhost:8080/"
        },
        "id": "TCMFxqBtVKMl",
        "outputId": "baa5e696-8e84-4bae-94b3-e7ae131dcaa7"
      },
      "execution_count": 5,
      "outputs": [
        {
          "output_type": "execute_result",
          "data": {
            "text/plain": [
              "array([[1, 2, 3],\n",
              "       [4, 5, 6],\n",
              "       [7, 8, 9]])"
            ]
          },
          "metadata": {},
          "execution_count": 5
        }
      ]
    },
    {
      "cell_type": "markdown",
      "source": [
        "Note that when we gave a list as input, np.array() returned a vector but when we gave a list of lists, we got a matrix as output."
      ],
      "metadata": {
        "id": "8SGsrwK8VVd-"
      }
    },
    {
      "cell_type": "markdown",
      "source": [
        "Arrange numbers in a range"
      ],
      "metadata": {
        "id": "z1PpkwoMYWY3"
      }
    },
    {
      "cell_type": "code",
      "source": [
        "np.arange(0,11)"
      ],
      "metadata": {
        "colab": {
          "base_uri": "https://localhost:8080/"
        },
        "id": "5gcOx3RPYYip",
        "outputId": "f9f277c8-08b2-4ab5-bee2-ea7ea3e0add2"
      },
      "execution_count": 6,
      "outputs": [
        {
          "output_type": "execute_result",
          "data": {
            "text/plain": [
              "array([ 0,  1,  2,  3,  4,  5,  6,  7,  8,  9, 10])"
            ]
          },
          "metadata": {},
          "execution_count": 6
        }
      ]
    },
    {
      "cell_type": "markdown",
      "source": [
        "If we want to customize step number instead of 1,we provide that step number as 3rd parameter."
      ],
      "metadata": {
        "id": "kOrNwnE_Ye1U"
      }
    },
    {
      "cell_type": "code",
      "source": [
        "np.arange(0,11,2)"
      ],
      "metadata": {
        "colab": {
          "base_uri": "https://localhost:8080/"
        },
        "id": "raScdmA4YcQ_",
        "outputId": "c047fd60-de66-4397-b0b2-659c5fb22690"
      },
      "execution_count": 7,
      "outputs": [
        {
          "output_type": "execute_result",
          "data": {
            "text/plain": [
              "array([ 0,  2,  4,  6,  8, 10])"
            ]
          },
          "metadata": {},
          "execution_count": 7
        }
      ]
    },
    {
      "cell_type": "markdown",
      "source": [
        "Array of all zeroes of size n\n",
        "\n",
        "```\n",
        "np.zeros(n)\n",
        "```\n",
        "\n"
      ],
      "metadata": {
        "id": "r5VsHZugB14e"
      }
    },
    {
      "cell_type": "code",
      "source": [
        "np.zeros(10)"
      ],
      "metadata": {
        "colab": {
          "base_uri": "https://localhost:8080/"
        },
        "id": "Kk_gpJnsYlou",
        "outputId": "422dbdc3-0544-456b-aba9-6e2a2cf7d853"
      },
      "execution_count": 8,
      "outputs": [
        {
          "output_type": "execute_result",
          "data": {
            "text/plain": [
              "array([0., 0., 0., 0., 0., 0., 0., 0., 0., 0.])"
            ]
          },
          "metadata": {},
          "execution_count": 8
        }
      ]
    },
    {
      "cell_type": "markdown",
      "source": [
        "2D zeros matrix"
      ],
      "metadata": {
        "id": "y6MnlGTgCqG8"
      }
    },
    {
      "cell_type": "code",
      "source": [
        "np.zeros((5,5))"
      ],
      "metadata": {
        "colab": {
          "base_uri": "https://localhost:8080/"
        },
        "id": "groru1OXCrmC",
        "outputId": "3d79061b-2947-4376-d511-d752f5d283a4"
      },
      "execution_count": 9,
      "outputs": [
        {
          "output_type": "execute_result",
          "data": {
            "text/plain": [
              "array([[0., 0., 0., 0., 0.],\n",
              "       [0., 0., 0., 0., 0.],\n",
              "       [0., 0., 0., 0., 0.],\n",
              "       [0., 0., 0., 0., 0.],\n",
              "       [0., 0., 0., 0., 0.]])"
            ]
          },
          "metadata": {},
          "execution_count": 9
        }
      ]
    },
    {
      "cell_type": "markdown",
      "source": [
        "Array of all ones of size n\n",
        "\n",
        "\n",
        "```\n",
        "np.ones(n)\n",
        "```\n",
        "\n"
      ],
      "metadata": {
        "id": "Ncz4FZOXCRN0"
      }
    },
    {
      "cell_type": "code",
      "source": [
        "np.ones(10)"
      ],
      "metadata": {
        "colab": {
          "base_uri": "https://localhost:8080/"
        },
        "id": "L6l8whocCZAn",
        "outputId": "c99c655c-9ba7-4d63-ff83-700468219a78"
      },
      "execution_count": 10,
      "outputs": [
        {
          "output_type": "execute_result",
          "data": {
            "text/plain": [
              "array([1., 1., 1., 1., 1., 1., 1., 1., 1., 1.])"
            ]
          },
          "metadata": {},
          "execution_count": 10
        }
      ]
    },
    {
      "cell_type": "code",
      "source": [
        "np.ones((5,5))"
      ],
      "metadata": {
        "colab": {
          "base_uri": "https://localhost:8080/"
        },
        "id": "OqeHpQ8FCvP7",
        "outputId": "539df8c1-af4e-4046-9325-7e1dc5374fc8"
      },
      "execution_count": 11,
      "outputs": [
        {
          "output_type": "execute_result",
          "data": {
            "text/plain": [
              "array([[1., 1., 1., 1., 1.],\n",
              "       [1., 1., 1., 1., 1.],\n",
              "       [1., 1., 1., 1., 1.],\n",
              "       [1., 1., 1., 1., 1.],\n",
              "       [1., 1., 1., 1., 1.]])"
            ]
          },
          "metadata": {},
          "execution_count": 11
        }
      ]
    },
    {
      "cell_type": "markdown",
      "source": [
        "**linspace(start,stop,num)**\n",
        "\n",
        "num is the number of samples to generate which determines the length of the output array."
      ],
      "metadata": {
        "id": "OFrs01t8D8vy"
      }
    },
    {
      "cell_type": "code",
      "source": [
        "np.linspace(0,1,10)"
      ],
      "metadata": {
        "colab": {
          "base_uri": "https://localhost:8080/"
        },
        "id": "rGMonOKREKiT",
        "outputId": "ad634cdf-a895-46a4-cc0d-cf72e575e805"
      },
      "execution_count": 12,
      "outputs": [
        {
          "output_type": "execute_result",
          "data": {
            "text/plain": [
              "array([0.        , 0.11111111, 0.22222222, 0.33333333, 0.44444444,\n",
              "       0.55555556, 0.66666667, 0.77777778, 0.88888889, 1.        ])"
            ]
          },
          "metadata": {},
          "execution_count": 12
        }
      ]
    },
    {
      "cell_type": "markdown",
      "source": [
        "#Random number generation\n",
        "\n",
        "We can use rand method of random module to generate numbers."
      ],
      "metadata": {
        "id": "Bx-CyGeQEU7D"
      }
    },
    {
      "cell_type": "code",
      "source": [
        "np.random.rand(5)"
      ],
      "metadata": {
        "colab": {
          "base_uri": "https://localhost:8080/"
        },
        "id": "GDXEszp2Ex21",
        "outputId": "75b86ba7-6e5b-46a5-dc57-afff135fc695"
      },
      "execution_count": 13,
      "outputs": [
        {
          "output_type": "execute_result",
          "data": {
            "text/plain": [
              "array([0.20961275, 0.14599756, 0.73836949, 0.93007447, 0.51415877])"
            ]
          },
          "metadata": {},
          "execution_count": 13
        }
      ]
    },
    {
      "cell_type": "code",
      "source": [
        "np.random.rand(2,3)"
      ],
      "metadata": {
        "colab": {
          "base_uri": "https://localhost:8080/"
        },
        "id": "a4TyW2INFAiy",
        "outputId": "ed30a5a8-557e-4634-a709-fa7a67f09723"
      },
      "execution_count": 14,
      "outputs": [
        {
          "output_type": "execute_result",
          "data": {
            "text/plain": [
              "array([[0.06918879, 0.6862917 , 0.98930756],\n",
              "       [0.96573801, 0.86301344, 0.8396634 ]])"
            ]
          },
          "metadata": {},
          "execution_count": 14
        }
      ]
    },
    {
      "cell_type": "code",
      "source": [
        "np.random.randn(5)"
      ],
      "metadata": {
        "colab": {
          "base_uri": "https://localhost:8080/"
        },
        "id": "BhkJS6oWFbUa",
        "outputId": "bb8c4e2e-54b0-461e-e01d-3176500b45b0"
      },
      "execution_count": 15,
      "outputs": [
        {
          "output_type": "execute_result",
          "data": {
            "text/plain": [
              "array([ 1.21427409,  0.05884743, -0.39175333,  0.60411909,  0.53799011])"
            ]
          },
          "metadata": {},
          "execution_count": 15
        }
      ]
    },
    {
      "cell_type": "markdown",
      "source": [
        "**rand**: generates random numbers from a uniform distribution over [0,1)\n",
        "\n",
        "**randn** : generates random numbers from a standard normal distribution ( mean 0, std 1)"
      ],
      "metadata": {
        "id": "kJkGsPy8GZzD"
      }
    },
    {
      "cell_type": "markdown",
      "source": [
        "**randint** method from numpy.random module generates random integers from a specifies [low,high) range."
      ],
      "metadata": {
        "id": "LeaL-rgiIq_v"
      }
    },
    {
      "cell_type": "markdown",
      "source": [
        "Generates a random integer from [0,11)"
      ],
      "metadata": {
        "id": "ryIG1S8xJrO2"
      }
    },
    {
      "cell_type": "code",
      "source": [
        "np.random.randint(0,11)"
      ],
      "metadata": {
        "colab": {
          "base_uri": "https://localhost:8080/"
        },
        "id": "nJ3RaO48JQYm",
        "outputId": "12f306dc-58fc-47fb-a368-391f4874d771"
      },
      "execution_count": 16,
      "outputs": [
        {
          "output_type": "execute_result",
          "data": {
            "text/plain": [
              "0"
            ]
          },
          "metadata": {},
          "execution_count": 16
        }
      ]
    },
    {
      "cell_type": "markdown",
      "source": [
        "Generates a 1D array of 5 random integers between [0,11)"
      ],
      "metadata": {
        "id": "MaWluwQcJwGM"
      }
    },
    {
      "cell_type": "code",
      "source": [
        "np.random.randint(0,11,5)"
      ],
      "metadata": {
        "colab": {
          "base_uri": "https://localhost:8080/"
        },
        "id": "zyTrG5qgKC27",
        "outputId": "53196aa6-d508-4848-d013-9372d3e72a4d"
      },
      "execution_count": 17,
      "outputs": [
        {
          "output_type": "execute_result",
          "data": {
            "text/plain": [
              "array([1, 9, 8, 4, 1])"
            ]
          },
          "metadata": {},
          "execution_count": 17
        }
      ]
    },
    {
      "cell_type": "markdown",
      "source": [
        "Generates a 2D array of shape (2,3) with random integers between [0,11)."
      ],
      "metadata": {
        "id": "XmaJM4JFKIuR"
      }
    },
    {
      "cell_type": "code",
      "source": [
        "np.random.randint(0,11,(2,3))"
      ],
      "metadata": {
        "colab": {
          "base_uri": "https://localhost:8080/"
        },
        "id": "hs3zCvMGKGoj",
        "outputId": "0b84da95-b1e7-4cc2-942d-9106b8bf0fec"
      },
      "execution_count": 18,
      "outputs": [
        {
          "output_type": "execute_result",
          "data": {
            "text/plain": [
              "array([[ 5,  3, 10],\n",
              "       [ 8,  9,  6]])"
            ]
          },
          "metadata": {},
          "execution_count": 18
        }
      ]
    },
    {
      "cell_type": "markdown",
      "source": [
        "**Reshaping an array**\n",
        "\n",
        "using `reshape()`"
      ],
      "metadata": {
        "id": "9Q3yAsqnK3RF"
      }
    },
    {
      "cell_type": "code",
      "source": [
        "arr = np.random.randint(0,50,10)\n",
        "arr"
      ],
      "metadata": {
        "colab": {
          "base_uri": "https://localhost:8080/"
        },
        "id": "VoYGWVPDK5h6",
        "outputId": "59cb173f-bec5-4d34-fc48-a9d7d111301c"
      },
      "execution_count": 19,
      "outputs": [
        {
          "output_type": "execute_result",
          "data": {
            "text/plain": [
              "array([ 6, 29, 15, 21,  2, 11,  3,  5, 24, 39])"
            ]
          },
          "metadata": {},
          "execution_count": 19
        }
      ]
    },
    {
      "cell_type": "code",
      "source": [
        "arr.reshape(5,5)"
      ],
      "metadata": {
        "colab": {
          "base_uri": "https://localhost:8080/",
          "height": 146
        },
        "id": "2NtF9nDs0-TD",
        "outputId": "76bc0ae8-f0af-4c00-b26e-c63021894da5"
      },
      "execution_count": 20,
      "outputs": [
        {
          "output_type": "error",
          "ename": "ValueError",
          "evalue": "cannot reshape array of size 10 into shape (5,5)",
          "traceback": [
            "\u001b[0;31m---------------------------------------------------------------------------\u001b[0m",
            "\u001b[0;31mValueError\u001b[0m                                Traceback (most recent call last)",
            "\u001b[0;32m<ipython-input-20-5e6094aeb4ce>\u001b[0m in \u001b[0;36m<cell line: 1>\u001b[0;34m()\u001b[0m\n\u001b[0;32m----> 1\u001b[0;31m \u001b[0marr\u001b[0m\u001b[0;34m.\u001b[0m\u001b[0mreshape\u001b[0m\u001b[0;34m(\u001b[0m\u001b[0;36m5\u001b[0m\u001b[0;34m,\u001b[0m\u001b[0;36m5\u001b[0m\u001b[0;34m)\u001b[0m\u001b[0;34m\u001b[0m\u001b[0;34m\u001b[0m\u001b[0m\n\u001b[0m",
            "\u001b[0;31mValueError\u001b[0m: cannot reshape array of size 10 into shape (5,5)"
          ]
        }
      ]
    },
    {
      "cell_type": "markdown",
      "source": [
        "Note the error! You cannot give a size that violates the size of the original array. Here, the size of the actual array was 10, but we wanted to reshape it to a 5x5 matrix which requires 25 samples. Hence the error."
      ],
      "metadata": {
        "id": "seBt7dOc1G0i"
      }
    },
    {
      "cell_type": "code",
      "source": [
        "arr.reshape(2,5)"
      ],
      "metadata": {
        "colab": {
          "base_uri": "https://localhost:8080/"
        },
        "id": "gUFfPQhD1ffW",
        "outputId": "a8f667f8-f0ee-47c6-e35f-d447694a4548"
      },
      "execution_count": 21,
      "outputs": [
        {
          "output_type": "execute_result",
          "data": {
            "text/plain": [
              "array([[ 6, 29, 15, 21,  2],\n",
              "       [11,  3,  5, 24, 39]])"
            ]
          },
          "metadata": {},
          "execution_count": 21
        }
      ]
    },
    {
      "cell_type": "markdown",
      "source": [
        "#Finding different information about the array\n",
        "\n",
        "\n",
        "* max : `max()`\n",
        "* min : `min()`\n",
        "* position of maximum value : `argmax()`\n",
        "* position of minimum value : `argmin()`\n",
        "* dimension of the array : `shape`\n",
        "* data type of the array : `dtype`"
      ],
      "metadata": {
        "id": "YNfevt-V1nO0"
      }
    },
    {
      "cell_type": "code",
      "source": [
        "arr.max()"
      ],
      "metadata": {
        "colab": {
          "base_uri": "https://localhost:8080/"
        },
        "id": "BaYvNN3y1rpX",
        "outputId": "047f0008-e006-4deb-8348-a744bee33db5"
      },
      "execution_count": 22,
      "outputs": [
        {
          "output_type": "execute_result",
          "data": {
            "text/plain": [
              "39"
            ]
          },
          "metadata": {},
          "execution_count": 22
        }
      ]
    },
    {
      "cell_type": "code",
      "source": [
        "arr.min()"
      ],
      "metadata": {
        "colab": {
          "base_uri": "https://localhost:8080/"
        },
        "id": "F48URI-M2HeZ",
        "outputId": "76feaef6-d8f8-4942-90e7-9d7999108b0c"
      },
      "execution_count": 23,
      "outputs": [
        {
          "output_type": "execute_result",
          "data": {
            "text/plain": [
              "2"
            ]
          },
          "metadata": {},
          "execution_count": 23
        }
      ]
    },
    {
      "cell_type": "code",
      "source": [
        "arr.argmax()"
      ],
      "metadata": {
        "colab": {
          "base_uri": "https://localhost:8080/"
        },
        "id": "PBkR_Q7q2NUS",
        "outputId": "06ae919e-237b-4dcb-ff4e-2c6137ef2a27"
      },
      "execution_count": 24,
      "outputs": [
        {
          "output_type": "execute_result",
          "data": {
            "text/plain": [
              "9"
            ]
          },
          "metadata": {},
          "execution_count": 24
        }
      ]
    },
    {
      "cell_type": "code",
      "source": [
        "arr.argmin()"
      ],
      "metadata": {
        "colab": {
          "base_uri": "https://localhost:8080/"
        },
        "id": "euZ3yxjI2efB",
        "outputId": "43f1e195-4e64-4c00-e666-98bb23c5835d"
      },
      "execution_count": 25,
      "outputs": [
        {
          "output_type": "execute_result",
          "data": {
            "text/plain": [
              "4"
            ]
          },
          "metadata": {},
          "execution_count": 25
        }
      ]
    },
    {
      "cell_type": "code",
      "source": [
        "arr.shape"
      ],
      "metadata": {
        "colab": {
          "base_uri": "https://localhost:8080/"
        },
        "id": "_Mj3FYEO2mE0",
        "outputId": "4edd88e2-81ad-4336-e97c-55cedfb97bcf"
      },
      "execution_count": 26,
      "outputs": [
        {
          "output_type": "execute_result",
          "data": {
            "text/plain": [
              "(10,)"
            ]
          },
          "metadata": {},
          "execution_count": 26
        }
      ]
    },
    {
      "cell_type": "markdown",
      "source": [
        "Note that, by (10,) it means it is an 1D array of 10 samples."
      ],
      "metadata": {
        "id": "FXNHZsuW22I1"
      }
    },
    {
      "cell_type": "code",
      "source": [
        "arr = arr.reshape(5,2)\n",
        "arr"
      ],
      "metadata": {
        "id": "EjMK6JwI3Sbv"
      },
      "execution_count": null,
      "outputs": []
    },
    {
      "cell_type": "code",
      "source": [
        "arr.shape"
      ],
      "metadata": {
        "colab": {
          "base_uri": "https://localhost:8080/"
        },
        "id": "OcLFlcWt3Vj5",
        "outputId": "e2ab275a-30f2-40b2-c159-6370c899d9d7"
      },
      "execution_count": 28,
      "outputs": [
        {
          "output_type": "execute_result",
          "data": {
            "text/plain": [
              "(5, 2)"
            ]
          },
          "metadata": {},
          "execution_count": 28
        }
      ]
    },
    {
      "cell_type": "code",
      "source": [
        "arr.dtype"
      ],
      "metadata": {
        "colab": {
          "base_uri": "https://localhost:8080/"
        },
        "id": "AoorA7Ep3zdS",
        "outputId": "a8af83eb-265a-4427-bc73-f10ae5c1d94f"
      },
      "execution_count": 29,
      "outputs": [
        {
          "output_type": "execute_result",
          "data": {
            "text/plain": [
              "dtype('int64')"
            ]
          },
          "metadata": {},
          "execution_count": 29
        }
      ]
    },
    {
      "cell_type": "markdown",
      "source": [
        "#NumPy Indexing and Selection"
      ],
      "metadata": {
        "id": "S46N2Uljmtyh"
      }
    },
    {
      "cell_type": "markdown",
      "source": [
        "Indexing is like python indexing , i.e, 0-based"
      ],
      "metadata": {
        "id": "qGp4Wbr3myWu"
      }
    },
    {
      "cell_type": "code",
      "source": [
        "arr = np.arange(1,11)\n",
        "arr"
      ],
      "metadata": {
        "colab": {
          "base_uri": "https://localhost:8080/"
        },
        "id": "iuXNA_RSm2QJ",
        "outputId": "78e7d422-4deb-49e2-e1f6-471981418187"
      },
      "execution_count": 32,
      "outputs": [
        {
          "output_type": "execute_result",
          "data": {
            "text/plain": [
              "array([ 1,  2,  3,  4,  5,  6,  7,  8,  9, 10])"
            ]
          },
          "metadata": {},
          "execution_count": 32
        }
      ]
    },
    {
      "cell_type": "code",
      "source": [
        "print(arr[3])"
      ],
      "metadata": {
        "colab": {
          "base_uri": "https://localhost:8080/"
        },
        "id": "_PHKCXGSnNWp",
        "outputId": "84c91b3b-6ad7-4be6-9654-1be3df55ad34"
      },
      "execution_count": 33,
      "outputs": [
        {
          "output_type": "stream",
          "name": "stdout",
          "text": [
            "4\n"
          ]
        }
      ]
    },
    {
      "cell_type": "markdown",
      "source": [
        "We can print a range of numbers by giving [start,end)."
      ],
      "metadata": {
        "id": "ioygBIxVnWQB"
      }
    },
    {
      "cell_type": "code",
      "source": [
        "print(arr[1:5])"
      ],
      "metadata": {
        "colab": {
          "base_uri": "https://localhost:8080/"
        },
        "id": "n5vJWVQenP19",
        "outputId": "8c7493a3-2ec8-49e5-e341-1322d4678e3e"
      },
      "execution_count": 34,
      "outputs": [
        {
          "output_type": "stream",
          "name": "stdout",
          "text": [
            "[2 3 4 5]\n"
          ]
        }
      ]
    },
    {
      "cell_type": "markdown",
      "source": [
        "We can also **broadcast** values specifying the range."
      ],
      "metadata": {
        "id": "BZayV3LInlNL"
      }
    },
    {
      "cell_type": "code",
      "source": [
        "arr[0:5] = 100\n",
        "arr"
      ],
      "metadata": {
        "colab": {
          "base_uri": "https://localhost:8080/"
        },
        "id": "Ba_d0uIfnrRb",
        "outputId": "1dde69fc-aebb-4f26-8748-3f78fbb57d4f"
      },
      "execution_count": 36,
      "outputs": [
        {
          "output_type": "execute_result",
          "data": {
            "text/plain": [
              "array([100, 100, 100, 100, 100,   6,   7,   8,   9,  10])"
            ]
          },
          "metadata": {},
          "execution_count": 36
        }
      ]
    },
    {
      "cell_type": "markdown",
      "source": [
        "##2D array indexing"
      ],
      "metadata": {
        "id": "hNuJPzMUtCXo"
      }
    },
    {
      "cell_type": "markdown",
      "source": [
        "You can use double bracket (for example, arr[0][1] ) or single bracket (for example, arr[0,1]) method."
      ],
      "metadata": {
        "id": "CFMCDW7ktP0x"
      }
    },
    {
      "cell_type": "code",
      "source": [
        "arr = np.arange(1,26).reshape(5,5)\n",
        "arr"
      ],
      "metadata": {
        "colab": {
          "base_uri": "https://localhost:8080/"
        },
        "id": "XRqg1SF3tRWk",
        "outputId": "12158ab3-a131-450b-d95a-8d4e5a225221"
      },
      "execution_count": 13,
      "outputs": [
        {
          "output_type": "execute_result",
          "data": {
            "text/plain": [
              "array([[ 1,  2,  3,  4,  5],\n",
              "       [ 6,  7,  8,  9, 10],\n",
              "       [11, 12, 13, 14, 15],\n",
              "       [16, 17, 18, 19, 20],\n",
              "       [21, 22, 23, 24, 25]])"
            ]
          },
          "metadata": {},
          "execution_count": 13
        }
      ]
    },
    {
      "cell_type": "code",
      "source": [
        "# double bracket\n",
        "arr[1][3]"
      ],
      "metadata": {
        "colab": {
          "base_uri": "https://localhost:8080/"
        },
        "id": "ZnDPiwqiuJ5r",
        "outputId": "d092b0c1-8cee-4f2d-deb7-70a0cec5a689"
      },
      "execution_count": 14,
      "outputs": [
        {
          "output_type": "execute_result",
          "data": {
            "text/plain": [
              "9"
            ]
          },
          "metadata": {},
          "execution_count": 14
        }
      ]
    },
    {
      "cell_type": "code",
      "source": [
        "# single bracket\n",
        "arr[1,3]"
      ],
      "metadata": {
        "colab": {
          "base_uri": "https://localhost:8080/"
        },
        "id": "G8NioyGJuR-5",
        "outputId": "1b1bace1-1ffd-43a5-9c36-943f657f2761"
      },
      "execution_count": 15,
      "outputs": [
        {
          "output_type": "execute_result",
          "data": {
            "text/plain": [
              "9"
            ]
          },
          "metadata": {},
          "execution_count": 15
        }
      ]
    },
    {
      "cell_type": "markdown",
      "source": [
        "**Slicing in 2D array**"
      ],
      "metadata": {
        "id": "jClemyBWBpEu"
      }
    },
    {
      "cell_type": "code",
      "source": [
        "arr[:2,1:]"
      ],
      "metadata": {
        "colab": {
          "base_uri": "https://localhost:8080/"
        },
        "id": "f1b8aL8ZBs5h",
        "outputId": "a5577e98-3d12-47d1-b004-721f4ef70187"
      },
      "execution_count": 6,
      "outputs": [
        {
          "output_type": "execute_result",
          "data": {
            "text/plain": [
              "array([[ 2,  3,  4,  5],\n",
              "       [ 7,  8,  9, 10]])"
            ]
          },
          "metadata": {},
          "execution_count": 6
        }
      ]
    },
    {
      "cell_type": "markdown",
      "source": [
        "The above example slices array from row[0,2) and column [1,5)."
      ],
      "metadata": {
        "id": "jIh-5KliCCP1"
      }
    },
    {
      "cell_type": "code",
      "source": [
        "arr[:2]"
      ],
      "metadata": {
        "colab": {
          "base_uri": "https://localhost:8080/"
        },
        "id": "agF7cQkMCUcH",
        "outputId": "0eccf927-567b-4176-cd71-74d610b618ee"
      },
      "execution_count": 7,
      "outputs": [
        {
          "output_type": "execute_result",
          "data": {
            "text/plain": [
              "array([[ 1,  2,  3,  4,  5],\n",
              "       [ 6,  7,  8,  9, 10]])"
            ]
          },
          "metadata": {},
          "execution_count": 7
        }
      ]
    },
    {
      "cell_type": "markdown",
      "source": [
        "##Copy and view\n",
        "\n",
        "Copy - copy is a new array which owns the data and any changes made to the copy will not affect the original array and vice versa.\n",
        "\n",
        "View - Does not own the data and any changes made to the view will affect the original array and vice versa."
      ],
      "metadata": {
        "id": "FE8LpkSooUwE"
      }
    },
    {
      "cell_type": "markdown",
      "source": [
        "Why do we need copy and what happens with view?"
      ],
      "metadata": {
        "id": "OOOD1mSRooML"
      }
    },
    {
      "cell_type": "code",
      "source": [
        "arr = np.arange(1,11)\n",
        "slice_of_arr = arr[0:6]"
      ],
      "metadata": {
        "id": "pfsUIMSwou7J"
      },
      "execution_count": 39,
      "outputs": []
    },
    {
      "cell_type": "code",
      "source": [
        "slice_of_arr"
      ],
      "metadata": {
        "colab": {
          "base_uri": "https://localhost:8080/"
        },
        "id": "1e0Bac88oyZZ",
        "outputId": "cb626598-a0ad-40ed-c66a-2712878a2361"
      },
      "execution_count": 40,
      "outputs": [
        {
          "output_type": "execute_result",
          "data": {
            "text/plain": [
              "array([1, 2, 3, 4, 5, 6])"
            ]
          },
          "metadata": {},
          "execution_count": 40
        }
      ]
    },
    {
      "cell_type": "code",
      "source": [
        "slice_of_arr[:] = 10"
      ],
      "metadata": {
        "id": "6LvbcEM9pPF-"
      },
      "execution_count": 42,
      "outputs": []
    },
    {
      "cell_type": "code",
      "source": [
        "slice_of_arr"
      ],
      "metadata": {
        "colab": {
          "base_uri": "https://localhost:8080/"
        },
        "id": "GZKEGTCipVC0",
        "outputId": "ad9c6e60-6232-4304-9040-fb2cce62eb8a"
      },
      "execution_count": 43,
      "outputs": [
        {
          "output_type": "execute_result",
          "data": {
            "text/plain": [
              "array([10, 10, 10, 10, 10, 10])"
            ]
          },
          "metadata": {},
          "execution_count": 43
        }
      ]
    },
    {
      "cell_type": "code",
      "source": [
        "arr"
      ],
      "metadata": {
        "colab": {
          "base_uri": "https://localhost:8080/"
        },
        "id": "VXGYp7vMpXLW",
        "outputId": "f86ec228-cf8d-4f30-9120-4dcb5290ecd0"
      },
      "execution_count": 44,
      "outputs": [
        {
          "output_type": "execute_result",
          "data": {
            "text/plain": [
              "array([10, 10, 10, 10, 10, 10,  7,  8,  9, 10])"
            ]
          },
          "metadata": {},
          "execution_count": 44
        }
      ]
    },
    {
      "cell_type": "markdown",
      "source": [
        "Note the above example. Here we tried to change value of the slice_of_array but the change is reflected in the actual array too. It is because slice_of_array is view of the original array.\n",
        "\n",
        "If we want to modify without changing the original array, we need to use copy.\n",
        "\n",
        "Method used to create copy :\n",
        "\n",
        "\n",
        "```\n",
        "copy()\n",
        "```\n",
        "\n"
      ],
      "metadata": {
        "id": "ukFWn_6-pZf_"
      }
    },
    {
      "cell_type": "code",
      "source": [
        "arr = np.arange(1,11)\n",
        "arr"
      ],
      "metadata": {
        "colab": {
          "base_uri": "https://localhost:8080/"
        },
        "id": "He5vRlm3pimo",
        "outputId": "f06b7ecf-cae3-42a8-dcfd-b28926bfd891"
      },
      "execution_count": 45,
      "outputs": [
        {
          "output_type": "execute_result",
          "data": {
            "text/plain": [
              "array([ 1,  2,  3,  4,  5,  6,  7,  8,  9, 10])"
            ]
          },
          "metadata": {},
          "execution_count": 45
        }
      ]
    },
    {
      "cell_type": "code",
      "source": [
        "arr_copy = arr.copy()\n",
        "arr_copy"
      ],
      "metadata": {
        "colab": {
          "base_uri": "https://localhost:8080/"
        },
        "id": "w8Q6PV9wrVyg",
        "outputId": "6ce4d4cd-0991-45a8-ba83-ee6bf9082f1b"
      },
      "execution_count": 46,
      "outputs": [
        {
          "output_type": "execute_result",
          "data": {
            "text/plain": [
              "array([ 1,  2,  3,  4,  5,  6,  7,  8,  9, 10])"
            ]
          },
          "metadata": {},
          "execution_count": 46
        }
      ]
    },
    {
      "cell_type": "code",
      "source": [
        "arr_copy[:] = 100\n",
        "arr_copy"
      ],
      "metadata": {
        "colab": {
          "base_uri": "https://localhost:8080/"
        },
        "id": "AsPv12nxra78",
        "outputId": "311db4f5-7bd9-416d-fb8f-a34daaa98c10"
      },
      "execution_count": 47,
      "outputs": [
        {
          "output_type": "execute_result",
          "data": {
            "text/plain": [
              "array([100, 100, 100, 100, 100, 100, 100, 100, 100, 100])"
            ]
          },
          "metadata": {},
          "execution_count": 47
        }
      ]
    },
    {
      "cell_type": "code",
      "source": [
        "arr"
      ],
      "metadata": {
        "colab": {
          "base_uri": "https://localhost:8080/"
        },
        "id": "bCFuw0jErp1l",
        "outputId": "22f5d0bf-fbee-4b26-c6a2-295979cf9fe6"
      },
      "execution_count": 48,
      "outputs": [
        {
          "output_type": "execute_result",
          "data": {
            "text/plain": [
              "array([ 1,  2,  3,  4,  5,  6,  7,  8,  9, 10])"
            ]
          },
          "metadata": {},
          "execution_count": 48
        }
      ]
    },
    {
      "cell_type": "markdown",
      "source": [
        "Now the modification is not reflected in the original array.\n",
        "\n",
        "**Learning point :**\n",
        "If you want to modify without reflecting the modification in the original array, create its copy explicitly. If you do not create a copy, it will provide a view and hence the modification will be both on the view and original array."
      ],
      "metadata": {
        "id": "SRsHxTOYryoz"
      }
    },
    {
      "cell_type": "markdown",
      "source": [
        "##Selection\n",
        "\n",
        "Conditional selection : Selecting based on any condition."
      ],
      "metadata": {
        "id": "qnqgN_hoChbN"
      }
    },
    {
      "cell_type": "code",
      "source": [
        "arr = np.arange(1,11)\n",
        "arr"
      ],
      "metadata": {
        "colab": {
          "base_uri": "https://localhost:8080/"
        },
        "id": "SwzV7Q7dCnyZ",
        "outputId": "375ae1b8-2877-4708-d41b-a691b509d720"
      },
      "execution_count": 8,
      "outputs": [
        {
          "output_type": "execute_result",
          "data": {
            "text/plain": [
              "array([ 1,  2,  3,  4,  5,  6,  7,  8,  9, 10])"
            ]
          },
          "metadata": {},
          "execution_count": 8
        }
      ]
    },
    {
      "cell_type": "code",
      "source": [
        "arr > 5"
      ],
      "metadata": {
        "colab": {
          "base_uri": "https://localhost:8080/"
        },
        "id": "4mUkoVW9Cv3W",
        "outputId": "c70f0dbe-27c4-4544-f1cc-1c81c0a1e0ba"
      },
      "execution_count": 9,
      "outputs": [
        {
          "output_type": "execute_result",
          "data": {
            "text/plain": [
              "array([False, False, False, False, False,  True,  True,  True,  True,\n",
              "        True])"
            ]
          },
          "metadata": {},
          "execution_count": 9
        }
      ]
    },
    {
      "cell_type": "code",
      "source": [
        "bool_arr = arr > 5\n",
        "bool_arr"
      ],
      "metadata": {
        "colab": {
          "base_uri": "https://localhost:8080/"
        },
        "id": "Lpb44ec8C2v8",
        "outputId": "d73aba47-81ec-4618-9d4b-4e593f9cdf22"
      },
      "execution_count": 10,
      "outputs": [
        {
          "output_type": "execute_result",
          "data": {
            "text/plain": [
              "array([False, False, False, False, False,  True,  True,  True,  True,\n",
              "        True])"
            ]
          },
          "metadata": {},
          "execution_count": 10
        }
      ]
    },
    {
      "cell_type": "code",
      "source": [
        "arr[bool_arr]"
      ],
      "metadata": {
        "colab": {
          "base_uri": "https://localhost:8080/"
        },
        "id": "6mN_bw9TC7RM",
        "outputId": "e3136a29-6c65-499b-a952-937a6065c0a9"
      },
      "execution_count": 11,
      "outputs": [
        {
          "output_type": "execute_result",
          "data": {
            "text/plain": [
              "array([ 6,  7,  8,  9, 10])"
            ]
          },
          "metadata": {},
          "execution_count": 11
        }
      ]
    },
    {
      "cell_type": "markdown",
      "source": [
        "The above code returns value of the array where value is greater than 5.\n",
        "\n",
        "The above code could be simply written as :"
      ],
      "metadata": {
        "id": "nVjmqH7EC9yx"
      }
    },
    {
      "cell_type": "code",
      "source": [
        "arr = np.arange(1,11)\n",
        "print(arr[arr > 5])"
      ],
      "metadata": {
        "colab": {
          "base_uri": "https://localhost:8080/"
        },
        "id": "rMTyWZKWDE8p",
        "outputId": "cb92b4f3-db8a-469a-d153-c4c082553efa"
      },
      "execution_count": 12,
      "outputs": [
        {
          "output_type": "stream",
          "name": "stdout",
          "text": [
            "[ 6  7  8  9 10]\n"
          ]
        }
      ]
    },
    {
      "cell_type": "markdown",
      "source": [
        "#NumPy opearations"
      ],
      "metadata": {
        "id": "MmUd9tHCG8Qj"
      }
    },
    {
      "cell_type": "markdown",
      "source": [
        "You can perform all the mathematical operations in NumPy arrays. For example :"
      ],
      "metadata": {
        "id": "7UB-xbLtG-YC"
      }
    },
    {
      "cell_type": "code",
      "source": [
        "arr = np.arange(0,11)\n",
        "arr"
      ],
      "metadata": {
        "colab": {
          "base_uri": "https://localhost:8080/"
        },
        "id": "BrbDNluQHEsY",
        "outputId": "edf142d0-a487-4190-879e-db84c21b074b"
      },
      "execution_count": 22,
      "outputs": [
        {
          "output_type": "execute_result",
          "data": {
            "text/plain": [
              "array([ 0,  1,  2,  3,  4,  5,  6,  7,  8,  9, 10])"
            ]
          },
          "metadata": {},
          "execution_count": 22
        }
      ]
    },
    {
      "cell_type": "code",
      "source": [
        "arr + arr"
      ],
      "metadata": {
        "colab": {
          "base_uri": "https://localhost:8080/"
        },
        "id": "hpW06radHJXH",
        "outputId": "47879675-9b0f-4a46-9d51-67766956670c"
      },
      "execution_count": 23,
      "outputs": [
        {
          "output_type": "execute_result",
          "data": {
            "text/plain": [
              "array([ 0,  2,  4,  6,  8, 10, 12, 14, 16, 18, 20])"
            ]
          },
          "metadata": {},
          "execution_count": 23
        }
      ]
    },
    {
      "cell_type": "code",
      "source": [
        "arr - arr"
      ],
      "metadata": {
        "colab": {
          "base_uri": "https://localhost:8080/"
        },
        "id": "nqjzU9j0HKpF",
        "outputId": "f3c997ec-5abd-4065-c82f-349550d1a576"
      },
      "execution_count": 24,
      "outputs": [
        {
          "output_type": "execute_result",
          "data": {
            "text/plain": [
              "array([0, 0, 0, 0, 0, 0, 0, 0, 0, 0, 0])"
            ]
          },
          "metadata": {},
          "execution_count": 24
        }
      ]
    },
    {
      "cell_type": "code",
      "source": [
        "arr * arr"
      ],
      "metadata": {
        "colab": {
          "base_uri": "https://localhost:8080/"
        },
        "id": "5k4BOhAEHMN6",
        "outputId": "e863f8e5-4027-48de-fa9a-76fb46ebe19b"
      },
      "execution_count": 25,
      "outputs": [
        {
          "output_type": "execute_result",
          "data": {
            "text/plain": [
              "array([  0,   1,   4,   9,  16,  25,  36,  49,  64,  81, 100])"
            ]
          },
          "metadata": {},
          "execution_count": 25
        }
      ]
    },
    {
      "cell_type": "code",
      "source": [
        "arr / arr"
      ],
      "metadata": {
        "colab": {
          "base_uri": "https://localhost:8080/"
        },
        "id": "mTxe5RUaHNg7",
        "outputId": "48578cb6-cdff-4b28-945a-e081ccba6609"
      },
      "execution_count": 26,
      "outputs": [
        {
          "output_type": "stream",
          "name": "stderr",
          "text": [
            "<ipython-input-26-7f952cd3e0ce>:1: RuntimeWarning: invalid value encountered in divide\n",
            "  arr / arr\n"
          ]
        },
        {
          "output_type": "execute_result",
          "data": {
            "text/plain": [
              "array([nan,  1.,  1.,  1.,  1.,  1.,  1.,  1.,  1.,  1.,  1.])"
            ]
          },
          "metadata": {},
          "execution_count": 26
        }
      ]
    },
    {
      "cell_type": "markdown",
      "source": [
        "Note that due to division by 0, the first index contains **nan**(not a number)"
      ],
      "metadata": {
        "id": "30aNvBKFHUrB"
      }
    },
    {
      "cell_type": "markdown",
      "source": [
        "**Scalar operations**"
      ],
      "metadata": {
        "id": "mn8KsOGSHajZ"
      }
    },
    {
      "cell_type": "code",
      "source": [
        "arr * 5"
      ],
      "metadata": {
        "colab": {
          "base_uri": "https://localhost:8080/"
        },
        "id": "gymEj29aHdZ8",
        "outputId": "1f42ddf5-9be7-4163-b9d0-15d0375e87a2"
      },
      "execution_count": 27,
      "outputs": [
        {
          "output_type": "execute_result",
          "data": {
            "text/plain": [
              "array([ 0,  5, 10, 15, 20, 25, 30, 35, 40, 45, 50])"
            ]
          },
          "metadata": {},
          "execution_count": 27
        }
      ]
    },
    {
      "cell_type": "markdown",
      "source": [
        "**ufuncs**\n",
        "\n",
        "ufuncs stands for Universal Functions.\n",
        "\n",
        "You can follow this blog to get an idea about the universal functions:\n",
        "https://w3schools.com/python/numpy/numpy_ufunc.asp"
      ],
      "metadata": {
        "id": "nass7mz3JKM_"
      }
    },
    {
      "cell_type": "markdown",
      "source": [
        "A few examples on universal functions are noted below :"
      ],
      "metadata": {
        "id": "Swt7cMHPJ6c9"
      }
    },
    {
      "cell_type": "code",
      "source": [
        "np.log(arr[1:])"
      ],
      "metadata": {
        "colab": {
          "base_uri": "https://localhost:8080/"
        },
        "id": "KtJmg3G0Jw1w",
        "outputId": "616efd4e-6b88-4a35-b6dc-ebd87e7a8202"
      },
      "execution_count": 29,
      "outputs": [
        {
          "output_type": "execute_result",
          "data": {
            "text/plain": [
              "array([0.        , 0.69314718, 1.09861229, 1.38629436, 1.60943791,\n",
              "       1.79175947, 1.94591015, 2.07944154, 2.19722458, 2.30258509])"
            ]
          },
          "metadata": {},
          "execution_count": 29
        }
      ]
    },
    {
      "cell_type": "code",
      "source": [
        "np.exp(arr)"
      ],
      "metadata": {
        "colab": {
          "base_uri": "https://localhost:8080/"
        },
        "id": "zzwzhU8DJ0x1",
        "outputId": "bf47744f-4f37-42e3-f15f-31ae132fa7d7"
      },
      "execution_count": 30,
      "outputs": [
        {
          "output_type": "execute_result",
          "data": {
            "text/plain": [
              "array([1.00000000e+00, 2.71828183e+00, 7.38905610e+00, 2.00855369e+01,\n",
              "       5.45981500e+01, 1.48413159e+02, 4.03428793e+02, 1.09663316e+03,\n",
              "       2.98095799e+03, 8.10308393e+03, 2.20264658e+04])"
            ]
          },
          "metadata": {},
          "execution_count": 30
        }
      ]
    },
    {
      "cell_type": "code",
      "source": [
        "np.sin(arr)"
      ],
      "metadata": {
        "colab": {
          "base_uri": "https://localhost:8080/"
        },
        "id": "0FF43KqDJ4L_",
        "outputId": "98ab10ba-20ac-4191-a548-603795ca443f"
      },
      "execution_count": 31,
      "outputs": [
        {
          "output_type": "execute_result",
          "data": {
            "text/plain": [
              "array([ 0.        ,  0.84147098,  0.90929743,  0.14112001, -0.7568025 ,\n",
              "       -0.95892427, -0.2794155 ,  0.6569866 ,  0.98935825,  0.41211849,\n",
              "       -0.54402111])"
            ]
          },
          "metadata": {},
          "execution_count": 31
        }
      ]
    },
    {
      "cell_type": "code",
      "source": [
        "np.max(arr)\n",
        "\n",
        "# similar to arr.max()"
      ],
      "metadata": {
        "colab": {
          "base_uri": "https://localhost:8080/"
        },
        "id": "PsJMScRrKAd6",
        "outputId": "eb4fe070-d22f-4e3d-cb0f-5b06db17be8a"
      },
      "execution_count": 34,
      "outputs": [
        {
          "output_type": "execute_result",
          "data": {
            "text/plain": [
              "10"
            ]
          },
          "metadata": {},
          "execution_count": 34
        }
      ]
    }
  ]
}